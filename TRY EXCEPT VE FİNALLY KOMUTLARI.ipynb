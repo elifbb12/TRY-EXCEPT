{
 "cells": [
  {
   "cell_type": "code",
   "execution_count": 9,
   "metadata": {},
   "outputs": [
    {
     "data": {
      "text/plain": [
       "2"
      ]
     },
     "execution_count": 9,
     "metadata": {},
     "output_type": "execute_result"
    }
   ],
   "source": [
    "round(1.6)"
   ]
  },
  {
   "cell_type": "code",
   "execution_count": 10,
   "metadata": {},
   "outputs": [],
   "source": [
    "def tam_sayiya_cevir():\n",
    "    girdi=input(\" ondalıklı bir sayı giriniz\")\n",
    "    print(\"yuvarlama işlemi sonucu {}\".format(round(float(girdi))))\n",
    "   "
   ]
  },
  {
   "cell_type": "code",
   "execution_count": 14,
   "metadata": {},
   "outputs": [
    {
     "name": "stdout",
     "output_type": "stream",
     "text": [
      " ondalıklı bir sayı giriniz1.959555\n",
      "yuvarlama işlemi sonucu 2\n"
     ]
    }
   ],
   "source": [
    "tam_sayiya_cevir()  ##nokta koyarak yap."
   ]
  },
  {
   "cell_type": "code",
   "execution_count": null,
   "metadata": {},
   "outputs": [],
   "source": [
    "def tam_sayiya_cevir():\n",
    "    girdi=input(\" ondalıklı bir sayı giriniz\")\n",
    "    ##print(\"yuvarlama işlemi sonucu {}\".format(round(float(girdi))))\n",
    "   \n",
    "    try:\n",
    "        girdi=float(girdi)\n",
    "        print(\"yuvarlama işlemi sonucu {}\".format(round(girdi)))\n",
    "        \n",
    "    except:\n",
    "        print(\" {} girdi ondalık tipe çevrilemiyor\".format(girdi))\n",
    "      \n",
    "        \n",
    "        "
   ]
  },
  {
   "cell_type": "code",
   "execution_count": null,
   "metadata": {},
   "outputs": [],
   "source": [
    "tam_sayiya_cevir()"
   ]
  },
  {
   "cell_type": "code",
   "execution_count": null,
   "metadata": {},
   "outputs": [],
   "source": [
    "def tam_sayiya_cevir():\n",
    "    girdi=input(\" ondalıklı bir sayı giriniz\")\n",
    "    ##print(\"yuvarlama işlemi sonucu {}\".format(round(float(girdi))))\n",
    "     statu=' '\n",
    "    try:\n",
    "        girdi=float(girdi)\n",
    "        print(\"yuvarlama işlemi sonucu {}\".format(round(girdi)))\n",
    "        statu='basarili'\n",
    "                \n",
    "    except:\n",
    "        print(\" {} girdi ondalık tipe çevrilemiyor\".format(girdi))\n",
    "         statu='basarisiz'\n",
    "    finally:\n",
    "        print('Tam sayı cevirme islemi {} olarak tamamlandı'.format(statu))\n",
    "        \n",
    "        "
   ]
  },
  {
   "cell_type": "code",
   "execution_count": null,
   "metadata": {},
   "outputs": [],
   "source": [
    "tam_sayiya_cevir()"
   ]
  },
  {
   "cell_type": "code",
   "execution_count": null,
   "metadata": {},
   "outputs": [],
   "source": [
    "def tam_sayiya_cevir():\n",
    "    girdi=input(\" ondalıklı bir sayı giriniz\")\n",
    "    ##print(\"yuvarlama işlemi sonucu {}\".format(round(float(girdi))))\n",
    "    try:\n",
    "        girdi=float(girdi)\n",
    "        print(\"yuvarlama işlemi sonucu {}\".format(round(girdi)))\n",
    "    except:\n",
    "        print(\" {} girdi ondalık tipe çevrilemiyor\".format(girdi))\n",
    "    else:\n",
    "        print(\"yuvarlama işlemi sonucu {}\".format(round(girdi)))"
   ]
  },
  {
   "cell_type": "code",
   "execution_count": null,
   "metadata": {},
   "outputs": [],
   "source": [
    "tam_sayiya_cevir()"
   ]
  },
  {
   "cell_type": "code",
   "execution_count": null,
   "metadata": {},
   "outputs": [],
   "source": [
    "def tam_sayiya_cevir_dongu():\n",
    "    while True:\n",
    "    girdi=input(\" ondalıklı bir sayı giriniz\")\n",
    "    ##print(\"yuvarlama işlemi sonucu {}\".format(round(float(girdi))))\n",
    "   \n",
    "        try:\n",
    "            girdi=float(girdi)\n",
    "            print(\"yuvarlama işlemi sonucu: {}\".format(round(girdi)))\n",
    "            break\n",
    "\n",
    "        except:\n",
    "            print(\" {} girdi ondalık tipe çevrilemiyor\".format(girdi))\n",
    "            pass"
   ]
  },
  {
   "cell_type": "code",
   "execution_count": null,
   "metadata": {},
   "outputs": [],
   "source": [
    "tam_sayiya_cevir_dongu()"
   ]
  }
 ],
 "metadata": {
  "kernelspec": {
   "display_name": "Python 3",
   "language": "python",
   "name": "python3"
  },
  "language_info": {
   "codemirror_mode": {
    "name": "ipython",
    "version": 3
   },
   "file_extension": ".py",
   "mimetype": "text/x-python",
   "name": "python",
   "nbconvert_exporter": "python",
   "pygments_lexer": "ipython3",
   "version": "3.8.3"
  }
 },
 "nbformat": 4,
 "nbformat_minor": 4
}
