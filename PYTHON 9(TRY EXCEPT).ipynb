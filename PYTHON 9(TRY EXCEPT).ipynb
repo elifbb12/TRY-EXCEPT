{
 "cells": [
  {
   "cell_type": "code",
   "execution_count": 2,
   "metadata": {},
   "outputs": [
    {
     "name": "stdout",
     "output_type": "stream",
     "text": [
      "bir sayı giriniz: 12\n",
      "bir sayı giriniz: 0\n"
     ]
    },
    {
     "ename": "ZeroDivisionError",
     "evalue": "division by zero",
     "output_type": "error",
     "traceback": [
      "\u001b[1;31m---------------------------------------------------------------------------\u001b[0m",
      "\u001b[1;31mZeroDivisionError\u001b[0m                         Traceback (most recent call last)",
      "\u001b[1;32m<ipython-input-2-56845350d93f>\u001b[0m in \u001b[0;36m<module>\u001b[1;34m\u001b[0m\n\u001b[0;32m      4\u001b[0m     \u001b[0mbol\u001b[0m\u001b[1;33m=\u001b[0m\u001b[0msayi1\u001b[0m\u001b[1;33m/\u001b[0m\u001b[0msayi2\u001b[0m\u001b[1;33m\u001b[0m\u001b[1;33m\u001b[0m\u001b[0m\n\u001b[0;32m      5\u001b[0m     \u001b[0mprint\u001b[0m\u001b[1;33m(\u001b[0m\u001b[0mbol\u001b[0m\u001b[1;33m)\u001b[0m\u001b[1;33m\u001b[0m\u001b[1;33m\u001b[0m\u001b[0m\n\u001b[1;32m----> 6\u001b[1;33m \u001b[0mmain\u001b[0m\u001b[1;33m(\u001b[0m\u001b[1;33m)\u001b[0m\u001b[1;33m\u001b[0m\u001b[1;33m\u001b[0m\u001b[0m\n\u001b[0m",
      "\u001b[1;32m<ipython-input-2-56845350d93f>\u001b[0m in \u001b[0;36mmain\u001b[1;34m()\u001b[0m\n\u001b[0;32m      2\u001b[0m     \u001b[0msayi1\u001b[0m\u001b[1;33m=\u001b[0m\u001b[0mint\u001b[0m\u001b[1;33m(\u001b[0m\u001b[0minput\u001b[0m\u001b[1;33m(\u001b[0m\u001b[1;34m\"bir sayı giriniz: \"\u001b[0m\u001b[1;33m)\u001b[0m\u001b[1;33m)\u001b[0m\u001b[1;33m\u001b[0m\u001b[1;33m\u001b[0m\u001b[0m\n\u001b[0;32m      3\u001b[0m     \u001b[0msayi2\u001b[0m\u001b[1;33m=\u001b[0m\u001b[0mint\u001b[0m\u001b[1;33m(\u001b[0m\u001b[0minput\u001b[0m\u001b[1;33m(\u001b[0m\u001b[1;34m\"bir sayı giriniz: \"\u001b[0m\u001b[1;33m)\u001b[0m\u001b[1;33m)\u001b[0m\u001b[1;33m\u001b[0m\u001b[1;33m\u001b[0m\u001b[0m\n\u001b[1;32m----> 4\u001b[1;33m     \u001b[0mbol\u001b[0m\u001b[1;33m=\u001b[0m\u001b[0msayi1\u001b[0m\u001b[1;33m/\u001b[0m\u001b[0msayi2\u001b[0m\u001b[1;33m\u001b[0m\u001b[1;33m\u001b[0m\u001b[0m\n\u001b[0m\u001b[0;32m      5\u001b[0m     \u001b[0mprint\u001b[0m\u001b[1;33m(\u001b[0m\u001b[0mbol\u001b[0m\u001b[1;33m)\u001b[0m\u001b[1;33m\u001b[0m\u001b[1;33m\u001b[0m\u001b[0m\n\u001b[0;32m      6\u001b[0m \u001b[0mmain\u001b[0m\u001b[1;33m(\u001b[0m\u001b[1;33m)\u001b[0m\u001b[1;33m\u001b[0m\u001b[1;33m\u001b[0m\u001b[0m\n",
      "\u001b[1;31mZeroDivisionError\u001b[0m: division by zero"
     ]
    }
   ],
   "source": [
    "def main(): #0 a bölme hatası(division by zero)\n",
    "    sayi1=int(input(\"bir sayı giriniz: \"))\n",
    "    sayi2=int(input(\"bir sayı giriniz: \"))\n",
    "    bol=sayi1/sayi2\n",
    "    print(bol)\n",
    "main()"
   ]
  },
  {
   "cell_type": "code",
   "execution_count": 3,
   "metadata": {},
   "outputs": [
    {
     "name": "stdout",
     "output_type": "stream",
     "text": [
      "bir sayı giriniz: 12\n",
      "bir sayı giriniz: 0\n",
      "0 bölme hatası\n"
     ]
    }
   ],
   "source": [
    "sayi1=int(input(\"bir sayı giriniz: \"))\n",
    "sayi2=int(input(\"bir sayı giriniz: \"))\n",
    "if sayi2 !=0:\n",
    "    bol=sayi1/sayi2\n",
    "    print(bol)\n",
    "else :\n",
    "    print(\"0 bölme hatası\")"
   ]
  },
  {
   "cell_type": "code",
   "execution_count": 4,
   "metadata": {},
   "outputs": [
    {
     "name": "stdout",
     "output_type": "stream",
     "text": [
      "bir sayı giriniz: fghdgh\n"
     ]
    },
    {
     "ename": "ValueError",
     "evalue": "invalid literal for int() with base 10: 'fghdgh'",
     "output_type": "error",
     "traceback": [
      "\u001b[1;31m---------------------------------------------------------------------------\u001b[0m",
      "\u001b[1;31mValueError\u001b[0m                                Traceback (most recent call last)",
      "\u001b[1;32m<ipython-input-4-c7760f101a92>\u001b[0m in \u001b[0;36m<module>\u001b[1;34m\u001b[0m\n\u001b[1;32m----> 1\u001b[1;33m \u001b[0msayi1\u001b[0m\u001b[1;33m=\u001b[0m\u001b[0mint\u001b[0m\u001b[1;33m(\u001b[0m\u001b[0minput\u001b[0m\u001b[1;33m(\u001b[0m\u001b[1;34m\"bir sayı giriniz: \"\u001b[0m\u001b[1;33m)\u001b[0m\u001b[1;33m)\u001b[0m\u001b[1;31m#int boşluğa str ifade girme hatası\u001b[0m\u001b[1;33m\u001b[0m\u001b[1;33m\u001b[0m\u001b[0m\n\u001b[0m\u001b[0;32m      2\u001b[0m \u001b[0msayi2\u001b[0m\u001b[1;33m=\u001b[0m\u001b[0mint\u001b[0m\u001b[1;33m(\u001b[0m\u001b[0minput\u001b[0m\u001b[1;33m(\u001b[0m\u001b[1;34m\"bir sayı giriniz: \"\u001b[0m\u001b[1;33m)\u001b[0m\u001b[1;33m)\u001b[0m\u001b[1;33m\u001b[0m\u001b[1;33m\u001b[0m\u001b[0m\n\u001b[0;32m      3\u001b[0m \u001b[0mbol\u001b[0m\u001b[1;33m=\u001b[0m\u001b[0msayi1\u001b[0m\u001b[1;33m/\u001b[0m\u001b[0msayi2\u001b[0m\u001b[1;33m\u001b[0m\u001b[1;33m\u001b[0m\u001b[0m\n\u001b[0;32m      4\u001b[0m \u001b[0mprint\u001b[0m\u001b[1;33m(\u001b[0m\u001b[0mbol\u001b[0m\u001b[1;33m)\u001b[0m\u001b[1;33m\u001b[0m\u001b[1;33m\u001b[0m\u001b[0m\n",
      "\u001b[1;31mValueError\u001b[0m: invalid literal for int() with base 10: 'fghdgh'"
     ]
    }
   ],
   "source": [
    "sayi1=int(input(\"bir sayı giriniz: \"))#int boşluğa str ifade girme hatası\n",
    "sayi2=int(input(\"bir sayı giriniz: \"))#ValueError\n",
    "bol=sayi1/sayi2\n",
    "print(bol)"
   ]
  },
  {
   "cell_type": "code",
   "execution_count": 6,
   "metadata": {},
   "outputs": [
    {
     "name": "stdout",
     "output_type": "stream",
     "text": [
      "bir sayı giriniz: 12\n",
      "bir sayı giriniz: 12\n",
      "1.0\n"
     ]
    }
   ],
   "source": [
    "try:\n",
    "    sayi1=int(input(\"bir sayı giriniz: \"))\n",
    "    sayi2=int(input(\"bir sayı giriniz: \"))#ValueError\n",
    "    bol=sayi1/sayi2\n",
    "    print(bol)\n",
    "except ValueError:\n",
    "    print(\"HATA:sayısal ifade yerine string bir ifade girdiniz.\")\n",
    "    print(\"Lütfen sayısal bir ifade giriniz...\")\n",
    "    "
   ]
  },
  {
   "cell_type": "code",
   "execution_count": 7,
   "metadata": {},
   "outputs": [
    {
     "name": "stdout",
     "output_type": "stream",
     "text": [
      "bir sayı giriniz: 12\n",
      "bir sayı giriniz: 0\n",
      "HATA: 0' a bölüm tanımsızdır.Paydayı sıfırdan farklı bir değer yapınız.\n"
     ]
    }
   ],
   "source": [
    "try:\n",
    "    sayi1=int(input(\"bir sayı giriniz: \"))\n",
    "    sayi2=int(input(\"bir sayı giriniz: \"))\n",
    "    bol=sayi1/sayi2\n",
    "    print(bol)\n",
    "except ZeroDivisionError:\n",
    "    print(\"HATA: 0' a bölüm tanımsızdır.Paydayı sıfırdan farklı bir değer yapınız.\")"
   ]
  },
  {
   "cell_type": "code",
   "execution_count": 9,
   "metadata": {},
   "outputs": [
    {
     "name": "stdout",
     "output_type": "stream",
     "text": [
      "Dosyanın adını giriniz: deneme12.txt\n",
      "elifelif1elif2lif3\n",
      "\n"
     ]
    }
   ],
   "source": [
    "dosyaAdi=input(\"Dosyanın adını giriniz: \")\n",
    "deneme=open(dosyaAdi,'r')\n",
    "oku=deneme.read()\n",
    "print(oku)\n",
    "deneme.close()"
   ]
  },
  {
   "cell_type": "code",
   "execution_count": 10,
   "metadata": {},
   "outputs": [
    {
     "name": "stdout",
     "output_type": "stream",
     "text": [
      "Dosyanın adını giriniz: deneme13.txt\n"
     ]
    },
    {
     "ename": "FileNotFoundError",
     "evalue": "[Errno 2] No such file or directory: 'deneme13.txt'",
     "output_type": "error",
     "traceback": [
      "\u001b[1;31m---------------------------------------------------------------------------\u001b[0m",
      "\u001b[1;31mFileNotFoundError\u001b[0m                         Traceback (most recent call last)",
      "\u001b[1;32m<ipython-input-10-e213f844293e>\u001b[0m in \u001b[0;36m<module>\u001b[1;34m\u001b[0m\n\u001b[0;32m      1\u001b[0m \u001b[0mdosyaAdi\u001b[0m\u001b[1;33m=\u001b[0m\u001b[0minput\u001b[0m\u001b[1;33m(\u001b[0m\u001b[1;34m\"Dosyanın adını giriniz: \"\u001b[0m\u001b[1;33m)\u001b[0m\u001b[1;33m\u001b[0m\u001b[1;33m\u001b[0m\u001b[0m\n\u001b[1;32m----> 2\u001b[1;33m \u001b[0mdeneme\u001b[0m\u001b[1;33m=\u001b[0m\u001b[0mopen\u001b[0m\u001b[1;33m(\u001b[0m\u001b[0mdosyaAdi\u001b[0m\u001b[1;33m,\u001b[0m\u001b[1;34m'r'\u001b[0m\u001b[1;33m)\u001b[0m\u001b[1;33m\u001b[0m\u001b[1;33m\u001b[0m\u001b[0m\n\u001b[0m\u001b[0;32m      3\u001b[0m \u001b[0moku\u001b[0m\u001b[1;33m=\u001b[0m\u001b[0mdeneme\u001b[0m\u001b[1;33m.\u001b[0m\u001b[0mread\u001b[0m\u001b[1;33m(\u001b[0m\u001b[1;33m)\u001b[0m\u001b[1;33m\u001b[0m\u001b[1;33m\u001b[0m\u001b[0m\n\u001b[0;32m      4\u001b[0m \u001b[0mprint\u001b[0m\u001b[1;33m(\u001b[0m\u001b[0moku\u001b[0m\u001b[1;33m)\u001b[0m\u001b[1;33m\u001b[0m\u001b[1;33m\u001b[0m\u001b[0m\n\u001b[0;32m      5\u001b[0m \u001b[0mdeneme\u001b[0m\u001b[1;33m.\u001b[0m\u001b[0mclose\u001b[0m\u001b[1;33m(\u001b[0m\u001b[1;33m)\u001b[0m\u001b[1;33m\u001b[0m\u001b[1;33m\u001b[0m\u001b[0m\n",
      "\u001b[1;31mFileNotFoundError\u001b[0m: [Errno 2] No such file or directory: 'deneme13.txt'"
     ]
    }
   ],
   "source": [
    "dosyaAdi=input(\"Dosyanın adını giriniz: \") #IOError\n",
    "deneme=open(dosyaAdi,'r')\n",
    "oku=deneme.read()\n",
    "print(oku)\n",
    "deneme.close()"
   ]
  },
  {
   "cell_type": "code",
   "execution_count": 13,
   "metadata": {},
   "outputs": [
    {
     "name": "stdout",
     "output_type": "stream",
     "text": [
      "Dosyanın adını giriniz: alias.txt\n",
      "Aradığınız dosya bulunmamaktadır.Tekrar deneyiniz...\n"
     ]
    }
   ],
   "source": [
    "try:\n",
    "    dosyaAdi=input(\"Dosyanın adını giriniz: \") #IOError\n",
    "    deneme=open(dosyaAdi,'r')\n",
    "    oku=deneme.read()\n",
    "    print(oku)\n",
    "    deneme.close()\n",
    "except IOError:\n",
    "    print(\"Aradığınız dosya bulunmamaktadır.Tekrar deneyiniz...\")"
   ]
  },
  {
   "cell_type": "code",
   "execution_count": 15,
   "metadata": {},
   "outputs": [
    {
     "name": "stdout",
     "output_type": "stream",
     "text": [
      "Dosyanın adını giriniz: dhhf\n",
      "bir hata oluştu...\n"
     ]
    }
   ],
   "source": [
    "try:\n",
    "    dosyaAdi=input(\"Dosyanın adını giriniz: \") #IOError\n",
    "    deneme=open(dosyaAdi,'r')\n",
    "    oku=deneme.read()\n",
    "    print(oku)\n",
    "    deneme.close()\n",
    "except IOError:\n",
    "    print(\"Aradığınız dosya bulunmamaktadır.Tekrar deneyiniz...\")\n",
    "except ValueError:\n",
    "    print(\"Sayısal bir ifade girdiniz.Lütfen tekrar deneyiniz...\")\n",
    "except:\n",
    "    print(\"bir hata oluştu...\")"
   ]
  },
  {
   "cell_type": "code",
   "execution_count": 18,
   "metadata": {},
   "outputs": [
    {
     "name": "stdout",
     "output_type": "stream",
     "text": [
      "bir hata oluştu\n"
     ]
    }
   ],
   "source": [
    "def main():\n",
    "    toplam=0.0\n",
    "    try:\n",
    "        deneme1=open(\"deneme12\",'r')\n",
    "        for line in deneme1:\n",
    "            deger=float(line)\n",
    "            total+=deger\n",
    "            deneme1.close()\n",
    "    except:\n",
    "        print(\"bir hata oluştu\")\n",
    "main()\n",
    "        "
   ]
  },
  {
   "cell_type": "code",
   "execution_count": 21,
   "metadata": {},
   "outputs": [
    {
     "name": "stdout",
     "output_type": "stream",
     "text": [
      "Kaç saat çalışıyorsunuz? dfg\n",
      "invalid literal for int() with base 10: 'dfg'\n"
     ]
    }
   ],
   "source": [
    "def main():\n",
    "    try:\n",
    "        saat=int(input(\"Kaç saat çalışıyorsunuz? \"))\n",
    "        saat_basi=float(\"Saat başı ne kadar ücret alıyorsunuz?\")\n",
    "        toplam=saat*saat_basi\n",
    "    except Exception as hata:\n",
    "        print(hata)\n",
    "    except ValueError as hata:\n",
    "        print(\"HATA: \",hata)\n",
    "        \n",
    "    \n",
    "main()"
   ]
  },
  {
   "cell_type": "code",
   "execution_count": 23,
   "metadata": {},
   "outputs": [
    {
     "name": "stdout",
     "output_type": "stream",
     "text": [
      "bir sayı giriniz: 12\n",
      "bir sayı giriniz: 6\n",
      "İŞLEMİN SONUCU 2.0\n"
     ]
    }
   ],
   "source": [
    "try:\n",
    "    sayi1=int(input(\"bir sayı giriniz: \"))\n",
    "    sayi2=int(input(\"bir sayı giriniz: \"))#ValueError\n",
    "    bol=sayi1/sayi2\n",
    "    \n",
    "except ValueError:\n",
    "    print(\"HATA:sayısal ifade yerine string bir ifade girdiniz.\")\n",
    "    print(\"Lütfen sayısal bir ifade giriniz...\")\n",
    "else:\n",
    "    print(\"İŞLEMİN SONUCU: \",bol)"
   ]
  },
  {
   "cell_type": "code",
   "execution_count": 26,
   "metadata": {},
   "outputs": [
    {
     "name": "stdout",
     "output_type": "stream",
     "text": [
      "bir sayı giriniz: 12\n",
      "bir sayı giriniz: 4\n",
      "işlemin sonucu:  3.0\n",
      "işleminiz tamamlandı\n"
     ]
    }
   ],
   "source": [
    "try:\n",
    "    sayi1=int(input(\"bir sayı giriniz: \"))\n",
    "    sayi2=int(input(\"bir sayı giriniz: \"))#ValueError\n",
    "    bol=sayi1/sayi2\n",
    "    print(\"işlemin sonucu: \",bol)\n",
    "    \n",
    "except ValueError:\n",
    "    print(\"HATA:sayısal ifade yerine string bir ifade girdiniz.\")\n",
    "    print(\"Lütfen sayısal bir ifade giriniz...\")\n",
    "finally:#her zaman çalışır.\n",
    "    print(\"işleminiz tamamlandı\")\n",
    "    \n"
   ]
  }
 ],
 "metadata": {
  "kernelspec": {
   "display_name": "Python 3",
   "language": "python",
   "name": "python3"
  },
  "language_info": {
   "codemirror_mode": {
    "name": "ipython",
    "version": 3
   },
   "file_extension": ".py",
   "mimetype": "text/x-python",
   "name": "python",
   "nbconvert_exporter": "python",
   "pygments_lexer": "ipython3",
   "version": "3.8.3"
  }
 },
 "nbformat": 4,
 "nbformat_minor": 4
}
